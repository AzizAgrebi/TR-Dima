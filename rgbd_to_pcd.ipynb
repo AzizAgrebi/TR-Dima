{
 "cells": [
  {
   "cell_type": "code",
   "execution_count": 3,
   "metadata": {},
   "outputs": [
    {
     "name": "stdout",
     "output_type": "stream",
     "text": [
      "Jupyter environment detected. Enabling Open3D WebVisualizer.\n",
      "[Open3D INFO] WebRTC GUI backend enabled.\n",
      "[Open3D INFO] WebRTCWindowSystem: HTTP handshake server disabled.\n"
     ]
    }
   ],
   "source": [
    "import open3d as o3d\n",
    "import numpy as np\n",
    "from PIL import Image\n",
    "import os\n",
    "import sys\n",
    "import matplotlib.pyplot as plt"
   ]
  },
  {
   "cell_type": "code",
   "execution_count": 2,
   "metadata": {},
   "outputs": [],
   "source": [
    "path = \"3rd_Floor_Luxembourg/\"\n",
    "files = os.listdir(path + \"depth/\")\n",
    "os.mkdir(path + \"depth_image/\")\n",
    "\n",
    "for filename in files:\n",
    "    depth_image = Image.fromarray(np.load(path + \"depth/\" + filename))\n",
    "    depth_image.save(path + \"depth_image/\" + filename[0:-4] + \".png\" )"
   ]
  },
  {
   "cell_type": "code",
   "execution_count": 13,
   "metadata": {},
   "outputs": [],
   "source": [
    "cam = o3d.camera.PinholeCameraIntrinsic()\n",
    "cam.set_intrinsics(1280, 720, 639.764, 639.764, 641.364, 356.711)"
   ]
  },
  {
   "cell_type": "code",
   "execution_count": 9,
   "metadata": {},
   "outputs": [],
   "source": [
    "files_rgb = os.listdir(path + \"camera/\")\n",
    "files_d = os.listdir(path + \"depth_image/\")\n",
    "os.mkdir(path + \"PointClouds\")\n",
    "\n",
    "for filename_rgb in files_rgb:\n",
    "    for filename_d in files_d:\n",
    "        if filename_rgb[6:-5]==filename_d[5:-4]:\n",
    "            depth_raw = o3d.io.read_image(path + \"depth_image/\" + filename_d)\n",
    "            color_raw = o3d.io.read_image(path + \"camera/\" + filename_rgb)\n",
    "            rgbd_image = o3d.geometry.RGBDImage.create_from_color_and_depth(color_raw, depth_raw)\n",
    "            pcd = o3d.geometry.PointCloud.create_from_rgbd_image(rgbd_image, cam)\n",
    "            pcd.transform([[1, 0, 0, 0], [0, -1, 0, 0], [0, 0, -1, 0], [0, 0, 0, 1]])\n",
    "            o3d.io.write_point_cloud(path + \"PointClouds/pointcloud\" + filename_d[5:-4] + \".ply\", pcd)"
   ]
  },
  {
   "cell_type": "code",
   "execution_count": 14,
   "metadata": {},
   "outputs": [],
   "source": [
    "# path = \"3rd_Floor_Luxembourg/\"\n",
    "# filename_d = \"depth_39.png\"\n",
    "# filename_rgb = \"camera_39.jpeg\"\n",
    "# depth_raw = o3d.io.read_image(path + \"depth_image/\" + filename_d)\n",
    "# color_raw = o3d.io.read_image(path + \"camera/\" + filename_rgb)\n",
    "# rgbd_image = o3d.geometry.RGBDImage.create_from_color_and_depth(color_raw, depth_raw)\n",
    "# pcd = o3d.geometry.PointCloud.create_from_rgbd_image(rgbd_image, cam)\n",
    "# pcd.transform([[1, 0, 0, 0], [0, -1, 0, 0], [0, 0, -1, 0], [0, 0, 0, 1]])\n",
    "# o3d.visualization.draw_geometries([pcd])"
   ]
  }
 ],
 "metadata": {
  "kernelspec": {
   "display_name": "base",
   "language": "python",
   "name": "python3"
  },
  "language_info": {
   "codemirror_mode": {
    "name": "ipython",
    "version": 3
   },
   "file_extension": ".py",
   "mimetype": "text/x-python",
   "name": "python",
   "nbconvert_exporter": "python",
   "pygments_lexer": "ipython3",
   "version": "3.9.12"
  },
  "orig_nbformat": 4
 },
 "nbformat": 4,
 "nbformat_minor": 2
}
