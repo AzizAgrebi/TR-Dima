{
 "cells": [
  {
   "cell_type": "code",
   "execution_count": 1,
   "metadata": {},
   "outputs": [
    {
     "name": "stdout",
     "output_type": "stream",
     "text": [
      "Jupyter environment detected. Enabling Open3D WebVisualizer.\n",
      "[Open3D INFO] WebRTC GUI backend enabled.\n",
      "[Open3D INFO] WebRTCWindowSystem: HTTP handshake server disabled.\n"
     ]
    }
   ],
   "source": [
    "import open3d as o3d\n",
    "import numpy as np\n",
    "import os\n",
    "import sys\n",
    "import matplotlib.pyplot as plt\n",
    "import time"
   ]
  },
  {
   "cell_type": "code",
   "execution_count": 2,
   "metadata": {},
   "outputs": [],
   "source": [
    "path = \"3rd_Floor_Luxembourg/\"\n",
    "os.mkdir(path + \"PointClouds_gd/\")\n",
    "files = os.listdir(path + \"PointClouds/\")\n",
    "\n",
    "for filename in files:\n",
    "    pcd = o3d.io.read_point_cloud(path + \"PointClouds/\" + filename)\n",
    "    points = np.asarray(pcd.points)\n",
    "    colors = np.asarray(pcd.colors)\n",
    "    points2 = []\n",
    "    colors2 = []\n",
    "    for i in range(len(points)):\n",
    "        if points[i][1]<1.:\n",
    "            points2.append(points[i])\n",
    "            colors2.append(colors[i])\n",
    "    points2 = np.asarray(points2)    \n",
    "    colors2 = np.asarray(colors2)  \n",
    "    pcd.points = o3d.utility.Vector3dVector(points2)\n",
    "    pcd.colors = o3d.utility.Vector3dVector(colors2)\n",
    "    coord = np.asarray(pcd.points)\n",
    "    alpha = 0. #rad\n",
    "    R = np.array([[1., 0., 0.], [0., np.cos(alpha), -np.sin(alpha)], [0., np.sin(alpha), np.cos(alpha)]])\n",
    "    new_coord = R@coord.transpose()\n",
    "    new_coord = new_coord.transpose()\n",
    "    new_color = np.zeros(np.asarray(pcd.points).shape)\n",
    "    for i in range(len(np.asarray(pcd.points))):\n",
    "        if new_coord[i][1]<-0.3:\n",
    "            new_color[i] = [0.5, 0.5, 0.5]\n",
    "        if new_coord[i][1]>1.:\n",
    "            new_color[i] = [1., 1., 1.]\n",
    "    pcd.colors = o3d.utility.Vector3dVector(new_color)\n",
    "    o3d.io.write_point_cloud(path + \"PointClouds_gd/pointcloud\" + filename[10:-4] + \".ply\", pcd)"
   ]
  },
  {
   "cell_type": "code",
   "execution_count": 4,
   "metadata": {},
   "outputs": [
    {
     "name": "stdout",
     "output_type": "stream",
     "text": [
      "[Open3D WARNING] GLFW Error: WGL: Failed to make context current: Descripteur non valide \n"
     ]
    }
   ],
   "source": [
    "pcd = o3d.io.read_point_cloud(\"3rd_Floor_Luxembourg/PointClouds_gd/pointcloud_57.ply\")\n",
    "o3d.visualization.draw_geometries([pcd])"
   ]
  }
 ],
 "metadata": {
  "kernelspec": {
   "display_name": "base",
   "language": "python",
   "name": "python3"
  },
  "language_info": {
   "codemirror_mode": {
    "name": "ipython",
    "version": 3
   },
   "file_extension": ".py",
   "mimetype": "text/x-python",
   "name": "python",
   "nbconvert_exporter": "python",
   "pygments_lexer": "ipython3",
   "version": "3.9.12"
  },
  "orig_nbformat": 4
 },
 "nbformat": 4,
 "nbformat_minor": 2
}
